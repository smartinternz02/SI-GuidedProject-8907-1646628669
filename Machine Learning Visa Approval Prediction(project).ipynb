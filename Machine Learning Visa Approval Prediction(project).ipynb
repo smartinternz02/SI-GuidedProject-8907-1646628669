{
 "cells": [
  {
   "cell_type": "code",
   "execution_count": 6,
   "id": "3223dc1f",
   "metadata": {},
   "outputs": [],
   "source": [
    "import pandas as pd\n",
    "import numpy as np\n",
    "\n",
    "\n",
    "import difflib as dff\n",
    "\n",
    "\n",
    "from sklearn import tree \n",
    "from sklearn import svm \n",
    "import sklearn.linear_model as linear_model \n",
    "from sklearn.ensemble import RandomForestClassifier \n",
    "from sklearn.neural_network import MLPClassifier \n",
    "from sklearn.naive_bayes import GaussianNB \n",
    "from sklearn.feature_selection import RFE\n",
    "from sklearn.linear_model import LogisticRegression\n",
    "\n",
    "from sklearn.model_selection import train_test_split\n",
    "\n",
    "\n",
    "import sklearn.metrics as metrics\n",
    "from sklearn import preprocessing\n",
    "\n",
    "\n",
    "import matplotlib.pyplot as plt\n",
    "%matplotlib inline\n"
   ]
  },
  {
   "cell_type": "code",
   "execution_count": 7,
   "id": "58808cc0",
   "metadata": {},
   "outputs": [],
   "source": [
    "path_excel = r\"C:\\Users\\SivaTharun\\Downloads\\Telegram Desktop\\h1b_kaggle.csv\""
   ]
  },
  {
   "cell_type": "code",
   "execution_count": 8,
   "id": "b7ac8cc4",
   "metadata": {},
   "outputs": [
    {
     "name": "stderr",
     "output_type": "stream",
     "text": [
      "C:\\Users\\SivaTharun\\anaconda3\\lib\\site-packages\\IPython\\core\\interactiveshell.py:3444: FutureWarning: The error_bad_lines argument has been deprecated and will be removed in a future version.\n",
      "\n",
      "\n",
      "  exec(code_obj, self.user_global_ns, self.user_ns)\n"
     ]
    }
   ],
   "source": [
    "column_names = ['CASE_STATUS', 'EMPLOYER_NAME','SOC_NAME', 'JOB_TITLE', 'FULL_TIME_POSITION', 'PREVAILING_WAGE', 'FILING_YEAR',\\\n",
    "               'WORKSITE', 'LONGITUDE', 'LATITUDE']\n",
    "table_1 = pd.read_table(path_excel, names = column_names, skiprows = 1, error_bad_lines = False, sep = ',')"
   ]
  },
  {
   "cell_type": "code",
   "execution_count": 9,
   "id": "b3e6a0b4",
   "metadata": {},
   "outputs": [
    {
     "name": "stderr",
     "output_type": "stream",
     "text": [
      "C:\\Users\\SIVATH~1\\AppData\\Local\\Temp/ipykernel_7960/3108441976.py:1: FutureWarning: Passing a negative integer is deprecated in version 1.0 and will not be supported in future version. Instead, use None to not limit the column width.\n",
      "  pd.set_option('display.max_colwidth', -1)\n"
     ]
    }
   ],
   "source": [
    "pd.set_option('display.max_colwidth', -1)\n",
    "pd.options.mode.chained_assignment = None"
   ]
  },
  {
   "cell_type": "code",
   "execution_count": 10,
   "id": "a3506419",
   "metadata": {},
   "outputs": [
    {
     "data": {
      "text/html": [
       "<div>\n",
       "<style scoped>\n",
       "    .dataframe tbody tr th:only-of-type {\n",
       "        vertical-align: middle;\n",
       "    }\n",
       "\n",
       "    .dataframe tbody tr th {\n",
       "        vertical-align: top;\n",
       "    }\n",
       "\n",
       "    .dataframe thead th {\n",
       "        text-align: right;\n",
       "    }\n",
       "</style>\n",
       "<table border=\"1\" class=\"dataframe\">\n",
       "  <thead>\n",
       "    <tr style=\"text-align: right;\">\n",
       "      <th></th>\n",
       "      <th>CASE_STATUS</th>\n",
       "      <th>EMPLOYER_NAME</th>\n",
       "      <th>SOC_NAME</th>\n",
       "      <th>JOB_TITLE</th>\n",
       "      <th>FULL_TIME_POSITION</th>\n",
       "      <th>PREVAILING_WAGE</th>\n",
       "      <th>FILING_YEAR</th>\n",
       "      <th>WORKSITE</th>\n",
       "      <th>LONGITUDE</th>\n",
       "      <th>LATITUDE</th>\n",
       "    </tr>\n",
       "  </thead>\n",
       "  <tbody>\n",
       "    <tr>\n",
       "      <th>1</th>\n",
       "      <td>CERTIFIED-WITHDRAWN</td>\n",
       "      <td>UNIVERSITY OF MICHIGAN</td>\n",
       "      <td>BIOCHEMISTS AND BIOPHYSICISTS</td>\n",
       "      <td>POSTDOCTORAL RESEARCH FELLOW</td>\n",
       "      <td>N</td>\n",
       "      <td>36067.0</td>\n",
       "      <td>2016</td>\n",
       "      <td>ANN ARBOR, MICHIGAN</td>\n",
       "      <td>-83.743038</td>\n",
       "      <td>42.280826</td>\n",
       "    </tr>\n",
       "    <tr>\n",
       "      <th>2</th>\n",
       "      <td>CERTIFIED-WITHDRAWN</td>\n",
       "      <td>GOODMAN NETWORKS, INC.</td>\n",
       "      <td>CHIEF EXECUTIVES</td>\n",
       "      <td>CHIEF OPERATING OFFICER</td>\n",
       "      <td>Y</td>\n",
       "      <td>242674.0</td>\n",
       "      <td>2016</td>\n",
       "      <td>PLANO, TEXAS</td>\n",
       "      <td>-96.698886</td>\n",
       "      <td>33.019843</td>\n",
       "    </tr>\n",
       "    <tr>\n",
       "      <th>3</th>\n",
       "      <td>CERTIFIED-WITHDRAWN</td>\n",
       "      <td>PORTS AMERICA GROUP, INC.</td>\n",
       "      <td>CHIEF EXECUTIVES</td>\n",
       "      <td>CHIEF PROCESS OFFICER</td>\n",
       "      <td>Y</td>\n",
       "      <td>193066.0</td>\n",
       "      <td>2016</td>\n",
       "      <td>JERSEY CITY, NEW JERSEY</td>\n",
       "      <td>-74.077642</td>\n",
       "      <td>40.728158</td>\n",
       "    </tr>\n",
       "    <tr>\n",
       "      <th>4</th>\n",
       "      <td>CERTIFIED-WITHDRAWN</td>\n",
       "      <td>GATES CORPORATION, A WHOLLY-OWNED SUBSIDIARY OF TOMKINS PLC</td>\n",
       "      <td>CHIEF EXECUTIVES</td>\n",
       "      <td>REGIONAL PRESIDEN, AMERICAS</td>\n",
       "      <td>Y</td>\n",
       "      <td>220314.0</td>\n",
       "      <td>2016</td>\n",
       "      <td>DENVER, COLORADO</td>\n",
       "      <td>-104.990251</td>\n",
       "      <td>39.739236</td>\n",
       "    </tr>\n",
       "    <tr>\n",
       "      <th>5</th>\n",
       "      <td>WITHDRAWN</td>\n",
       "      <td>PEABODY INVESTMENTS CORP.</td>\n",
       "      <td>CHIEF EXECUTIVES</td>\n",
       "      <td>PRESIDENT MONGOLIA AND INDIA</td>\n",
       "      <td>Y</td>\n",
       "      <td>157518.4</td>\n",
       "      <td>2016</td>\n",
       "      <td>ST. LOUIS, MISSOURI</td>\n",
       "      <td>-90.199404</td>\n",
       "      <td>38.627003</td>\n",
       "    </tr>\n",
       "  </tbody>\n",
       "</table>\n",
       "</div>"
      ],
      "text/plain": [
       "           CASE_STATUS  \\\n",
       "1  CERTIFIED-WITHDRAWN   \n",
       "2  CERTIFIED-WITHDRAWN   \n",
       "3  CERTIFIED-WITHDRAWN   \n",
       "4  CERTIFIED-WITHDRAWN   \n",
       "5  WITHDRAWN             \n",
       "\n",
       "                                                 EMPLOYER_NAME  \\\n",
       "1  UNIVERSITY OF MICHIGAN                                        \n",
       "2  GOODMAN NETWORKS, INC.                                        \n",
       "3  PORTS AMERICA GROUP, INC.                                     \n",
       "4  GATES CORPORATION, A WHOLLY-OWNED SUBSIDIARY OF TOMKINS PLC   \n",
       "5  PEABODY INVESTMENTS CORP.                                     \n",
       "\n",
       "                        SOC_NAME                     JOB_TITLE  \\\n",
       "1  BIOCHEMISTS AND BIOPHYSICISTS  POSTDOCTORAL RESEARCH FELLOW   \n",
       "2  CHIEF EXECUTIVES               CHIEF OPERATING OFFICER        \n",
       "3  CHIEF EXECUTIVES               CHIEF PROCESS OFFICER          \n",
       "4  CHIEF EXECUTIVES               REGIONAL PRESIDEN, AMERICAS    \n",
       "5  CHIEF EXECUTIVES               PRESIDENT MONGOLIA AND INDIA   \n",
       "\n",
       "  FULL_TIME_POSITION  PREVAILING_WAGE  FILING_YEAR                 WORKSITE  \\\n",
       "1  N                  36067.0          2016         ANN ARBOR, MICHIGAN       \n",
       "2  Y                  242674.0         2016         PLANO, TEXAS              \n",
       "3  Y                  193066.0         2016         JERSEY CITY, NEW JERSEY   \n",
       "4  Y                  220314.0         2016         DENVER, COLORADO          \n",
       "5  Y                  157518.4         2016         ST. LOUIS, MISSOURI       \n",
       "\n",
       "    LONGITUDE   LATITUDE  \n",
       "1 -83.743038   42.280826  \n",
       "2 -96.698886   33.019843  \n",
       "3 -74.077642   40.728158  \n",
       "4 -104.990251  39.739236  \n",
       "5 -90.199404   38.627003  "
      ]
     },
     "execution_count": 10,
     "metadata": {},
     "output_type": "execute_result"
    }
   ],
   "source": [
    "table_1.head()"
   ]
  },
  {
   "cell_type": "code",
   "execution_count": 11,
   "id": "d4f5b31d",
   "metadata": {},
   "outputs": [
    {
     "data": {
      "image/png": "[encoded data removed]",
      "text/plain": [
       "<Figure size 432x288 with 1 Axes>"
      ]
     },
     "metadata": {
      "needs_background": "light"
     },
     "output_type": "display_data"
    },
    {
     "name": "stdout",
     "output_type": "stream",
     "text": [
      "CERTIFIED              914251\n",
      "CERTIFIED-WITHDRAWN    83160 \n",
      "WITHDRAWN              35494 \n",
      "DENIED                 15670 \n",
      "Name: CASE_STATUS, dtype: int64\n"
     ]
    }
   ],
   "source": [
    "plot_status_numberinit = table_1['CASE_STATUS'].value_counts().plot(title = 'CASE STATUS vs NUMBER OF PETITIONS', \\\n",
    "                                                                kind = 'barh', color = 'green')\n",
    "plot_status_numberinit.set_xlabel(\"CASE STATUS\")\n",
    "plot_status_numberinit.set_ylabel(\"NUMBER OF PETITIONS\")\n",
    "plt.show()\n",
    "print(table_1['CASE_STATUS'].value_counts())"
   ]
  },
  {
   "cell_type": "code",
   "execution_count": 12,
   "id": "9235d333",
   "metadata": {},
   "outputs": [],
   "source": [
    "table_2 = table_1.loc[table_1['CASE_STATUS'].isin([\"CERTIFIED\", \"DENIED\", \"REJECTED\"])]"
   ]
  },
  {
   "cell_type": "code",
   "execution_count": 13,
   "id": "48ca2861",
   "metadata": {},
   "outputs": [],
   "source": [
    "table_2['FILING_YEAR'] = table_2['FILING_YEAR'].astype(int)\n",
    "table_2['EMPLOYER_NAME'] = table_2['EMPLOYER_NAME'].str.upper()\n",
    "table_2['SOC_NAME'] = table_2['SOC_NAME'].str.upper()\n",
    "table_2['JOB_TITLE'] = table_2['JOB_TITLE'].str.upper()\n",
    "table_2['FULL_TIME_POSITION'] = table_2['FULL_TIME_POSITION'].str.upper()"
   ]
  },
  {
   "cell_type": "code",
   "execution_count": 14,
   "id": "5ba60cc5",
   "metadata": {},
   "outputs": [
    {
     "data": {
      "text/html": [
       "<div>\n",
       "<style scoped>\n",
       "    .dataframe tbody tr th:only-of-type {\n",
       "        vertical-align: middle;\n",
       "    }\n",
       "\n",
       "    .dataframe tbody tr th {\n",
       "        vertical-align: top;\n",
       "    }\n",
       "\n",
       "    .dataframe thead th {\n",
       "        text-align: right;\n",
       "    }\n",
       "</style>\n",
       "<table border=\"1\" class=\"dataframe\">\n",
       "  <thead>\n",
       "    <tr style=\"text-align: right;\">\n",
       "      <th></th>\n",
       "      <th>CASE_STATUS</th>\n",
       "      <th>EMPLOYER_NAME</th>\n",
       "      <th>SOC_NAME</th>\n",
       "      <th>JOB_TITLE</th>\n",
       "      <th>FULL_TIME_POSITION</th>\n",
       "      <th>PREVAILING_WAGE</th>\n",
       "      <th>FILING_YEAR</th>\n",
       "      <th>WORKSITE</th>\n",
       "      <th>LONGITUDE</th>\n",
       "      <th>LATITUDE</th>\n",
       "    </tr>\n",
       "  </thead>\n",
       "  <tbody>\n",
       "    <tr>\n",
       "      <th>19</th>\n",
       "      <td>CERTIFIED</td>\n",
       "      <td>QUICKLOGIX LLC</td>\n",
       "      <td>CHIEF EXECUTIVES</td>\n",
       "      <td>CEO</td>\n",
       "      <td>Y</td>\n",
       "      <td>187200.0</td>\n",
       "      <td>2016</td>\n",
       "      <td>SANTA CLARA, CALIFORNIA</td>\n",
       "      <td>-121.955236</td>\n",
       "      <td>37.354108</td>\n",
       "    </tr>\n",
       "    <tr>\n",
       "      <th>20</th>\n",
       "      <td>CERTIFIED</td>\n",
       "      <td>MCCHRYSTAL GROUP, LLC</td>\n",
       "      <td>CHIEF EXECUTIVES</td>\n",
       "      <td>PRESIDENT, NORTHEAST REGION</td>\n",
       "      <td>Y</td>\n",
       "      <td>241842.0</td>\n",
       "      <td>2016</td>\n",
       "      <td>ALEXANDRIA, VIRGINIA</td>\n",
       "      <td>-77.046921</td>\n",
       "      <td>38.804836</td>\n",
       "    </tr>\n",
       "    <tr>\n",
       "      <th>23</th>\n",
       "      <td>CERTIFIED</td>\n",
       "      <td>LOMICS, LLC</td>\n",
       "      <td>CHIEF EXECUTIVES</td>\n",
       "      <td>CEO</td>\n",
       "      <td>Y</td>\n",
       "      <td>99986.0</td>\n",
       "      <td>2016</td>\n",
       "      <td>SAN DIEGO, CALIFORNIA</td>\n",
       "      <td>-117.161084</td>\n",
       "      <td>32.715738</td>\n",
       "    </tr>\n",
       "    <tr>\n",
       "      <th>24</th>\n",
       "      <td>CERTIFIED</td>\n",
       "      <td>UC UNIVERSITY HIGH SCHOOL EDUCATION INC.</td>\n",
       "      <td>CHIEF EXECUTIVES</td>\n",
       "      <td>CHIEF FINANCIAL OFFICER</td>\n",
       "      <td>Y</td>\n",
       "      <td>99986.0</td>\n",
       "      <td>2016</td>\n",
       "      <td>CHULA VISTA, CALIFORNIA</td>\n",
       "      <td>-117.084196</td>\n",
       "      <td>32.640054</td>\n",
       "    </tr>\n",
       "    <tr>\n",
       "      <th>26</th>\n",
       "      <td>CERTIFIED</td>\n",
       "      <td>QUICKLOGIX, INC.</td>\n",
       "      <td>CHIEF EXECUTIVES</td>\n",
       "      <td>CEO</td>\n",
       "      <td>Y</td>\n",
       "      <td>187200.0</td>\n",
       "      <td>2016</td>\n",
       "      <td>SANTA CLARA, CALIFORNIA</td>\n",
       "      <td>-121.955236</td>\n",
       "      <td>37.354108</td>\n",
       "    </tr>\n",
       "  </tbody>\n",
       "</table>\n",
       "</div>"
      ],
      "text/plain": [
       "   CASE_STATUS                             EMPLOYER_NAME          SOC_NAME  \\\n",
       "19  CERTIFIED   QUICKLOGIX LLC                            CHIEF EXECUTIVES   \n",
       "20  CERTIFIED   MCCHRYSTAL GROUP, LLC                     CHIEF EXECUTIVES   \n",
       "23  CERTIFIED   LOMICS, LLC                               CHIEF EXECUTIVES   \n",
       "24  CERTIFIED   UC UNIVERSITY HIGH SCHOOL EDUCATION INC.  CHIEF EXECUTIVES   \n",
       "26  CERTIFIED   QUICKLOGIX, INC.                          CHIEF EXECUTIVES   \n",
       "\n",
       "                      JOB_TITLE FULL_TIME_POSITION  PREVAILING_WAGE  \\\n",
       "19  CEO                          Y                  187200.0          \n",
       "20  PRESIDENT, NORTHEAST REGION  Y                  241842.0          \n",
       "23  CEO                          Y                  99986.0           \n",
       "24  CHIEF FINANCIAL OFFICER      Y                  99986.0           \n",
       "26  CEO                          Y                  187200.0          \n",
       "\n",
       "    FILING_YEAR                 WORKSITE   LONGITUDE   LATITUDE  \n",
       "19  2016         SANTA CLARA, CALIFORNIA -121.955236  37.354108  \n",
       "20  2016         ALEXANDRIA, VIRGINIA    -77.046921   38.804836  \n",
       "23  2016         SAN DIEGO, CALIFORNIA   -117.161084  32.715738  \n",
       "24  2016         CHULA VISTA, CALIFORNIA -117.084196  32.640054  \n",
       "26  2016         SANTA CLARA, CALIFORNIA -121.955236  37.354108  "
      ]
     },
     "execution_count": 14,
     "metadata": {},
     "output_type": "execute_result"
    }
   ],
   "source": [
    "table_2.head()"
   ]
  },
  {
   "cell_type": "code",
   "execution_count": 15,
   "id": "aa2155f0",
   "metadata": {},
   "outputs": [
    {
     "data": {
      "text/plain": [
       "<AxesSubplot:title={'center':'CASE STATUS vs NUMBER OF PETITIONS'}, xlabel='CASE STATUS', ylabel='NUMBER OF PETITIONS'>"
      ]
     },
     "execution_count": 15,
     "metadata": {},
     "output_type": "execute_result"
    },
    {
     "data": {
      "image/png": "[encoded data removed]",
      "text/plain": [
       "<Figure size 432x288 with 1 Axes>"
      ]
     },
     "metadata": {
      "needs_background": "light"
     },
     "output_type": "display_data"
    }
   ],
   "source": [
    "plot_status_number = table_2['CASE_STATUS'].value_counts().plot(title = 'CASE STATUS vs NUMBER OF PETITIONS', \\\n",
    "                                                                kind = 'bar', color = 'green')\n",
    "plot_status_number.set_xlabel(\"CASE STATUS\")\n",
    "plot_status_number.set_ylabel(\"NUMBER OF PETITIONS\")\n",
    "for p in plot_status_number.patches:\n",
    "    plot_status_number.annotate(str(p.get_height()), (p.get_x() * 1.0050, p.get_height() * 1.005))\n",
    "plot_status_number"
   ]
  },
  {
   "cell_type": "code",
   "execution_count": 17,
   "id": "1728bd3c",
   "metadata": {},
   "outputs": [
    {
     "name": "stdout",
     "output_type": "stream",
     "text": [
      "INFOSYS LIMITED                                    48632\n",
      "TATA CONSULTANCY SERVICES LIMITED                  23053\n",
      "WIPRO LIMITED                                      16236\n",
      "CAPGEMINI AMERICA INC                              16032\n",
      "ACCENTURE LLP                                      15890\n",
      "IBM INDIA PRIVATE LIMITED                          15729\n",
      "DELOITTE CONSULTING LLP                            11968\n",
      "TECH MAHINDRA (AMERICAS),INC.                      9204 \n",
      "HCL AMERICA, INC.                                  8846 \n",
      "ERNST & YOUNG U.S. LLP                             7399 \n",
      "MICROSOFT CORPORATION                              7099 \n",
      "COGNIZANT TECHNOLOGY SOLUTIONS U.S. CORPORATION    6015 \n",
      "IGATE TECHNOLOGIES INC.                            5079 \n",
      "GOOGLE INC.                                        4755 \n",
      "LARSEN & TOUBRO INFOTECH LIMITED                   4458 \n",
      "Name: EMPLOYER_NAME, dtype: int64\n"
     ]
    },
    {
     "data": {
      "image/png": "[encoded data removed]",
      "text/plain": [
       "<Figure size 504x360 with 1 Axes>"
      ]
     },
     "metadata": {
      "needs_background": "light"
     },
     "output_type": "display_data"
    }
   ],
   "source": [
    "plot_status_topemp= table_2['EMPLOYER_NAME'].value_counts().head(15).plot.barh(title = \"Top 15 employers filing the petitions\", \\\n",
    "                                                                 color = 'green', figsize = (7, 5))\n",
    "plot_status_topemp.set_ylabel(\"NAME OF THE EMPLOYER\")\n",
    "plot_status_topemp.set_xlabel(\"NUMBER OF PETITIONS\")\n",
    "plot_status_topemp\n",
    "print(table_2['EMPLOYER_NAME'].value_counts().head(15))"
   ]
  },
  {
   "cell_type": "code",
   "execution_count": 18,
   "id": "ecdc6588",
   "metadata": {},
   "outputs": [
    {
     "name": "stdout",
     "output_type": "stream",
     "text": [
      "SOFTWARE DEVELOPERS, APPLICATIONS                     162012\n",
      "COMPUTER SYSTEMS ANALYSTS                             159803\n",
      "COMPUTER PROGRAMMERS                                  130823\n",
      "COMPUTER OCCUPATIONS, ALL OTHER                       81738 \n",
      "SOFTWARE DEVELOPERS, SYSTEMS SOFTWARE                 28936 \n",
      "MANAGEMENT ANALYSTS                                   22088 \n",
      "ACCOUNTANTS AND AUDITORS                              17522 \n",
      "COMPUTER SYSTEMS ANALYST                              17071 \n",
      "NETWORK AND COMPUTER SYSTEMS ADMINISTRATORS           16416 \n",
      "FINANCIAL ANALYSTS                                    13617 \n",
      "MECHANICAL ENGINEERS                                  13260 \n",
      "DATABASE ADMINISTRATORS                               12499 \n",
      "MARKET RESEARCH ANALYSTS AND MARKETING SPECIALISTS    11970 \n",
      "OPERATIONS RESEARCH ANALYSTS                          11116 \n",
      "ELECTRONICS ENGINEERS, EXCEPT COMPUTER                9523  \n",
      "Name: SOC_NAME, dtype: int64\n"
     ]
    },
    {
     "data": {
      "image/png": "[encoded data removed]",
      "text/plain": [
       "<Figure size 504x360 with 1 Axes>"
      ]
     },
     "metadata": {
      "needs_background": "light"
     },
     "output_type": "display_data"
    }
   ],
   "source": [
    "plot_status_topsoc= table_2['SOC_NAME'].value_counts().head(15).plot.barh(title = \"Top 15 in demand positions SOCs\", \\\n",
    "                                                                 color = 'green', figsize = (7, 5))\n",
    "plot_status_topsoc.set_ylabel(\"SOC NAME\")\n",
    "plot_status_topsoc.set_xlabel(\"NUMBER OF PETITIONS\")\n",
    "plot_status_topsoc\n",
    "print(table_2['SOC_NAME'].value_counts().head(15))"
   ]
  },
  {
   "cell_type": "code",
   "execution_count": 19,
   "id": "87b5ffc8",
   "metadata": {},
   "outputs": [
    {
     "data": {
      "image/png": "[encoded data removed]",
      "text/plain": [
       "<Figure size 432x288 with 1 Axes>"
      ]
     },
     "metadata": {
      "needs_background": "light"
     },
     "output_type": "display_data"
    },
    {
     "data": {
      "image/png": "[encoded data removed]",
      "text/plain": [
       "<Figure size 432x288 with 1 Axes>"
      ]
     },
     "metadata": {
      "needs_background": "light"
     },
     "output_type": "display_data"
    }
   ],
   "source": [
    "dfplot_status_fyear = pd.DataFrame(table_2['FILING_YEAR'].value_counts())\n",
    "dfplot_status_fyear = dfplot_status_fyear.sort_values(['FILING_YEAR'])\n",
    "plot_status_fyear = dfplot_status_fyear.plot(title = 'H1-B Petitions per year', kind = 'line')\n",
    "plot_status_fyear.set_xlabel('FILING YEAR')\n",
    "plot_status_fyear.set_ylabel('NUMBER OF PETITIONS')\n",
    "plt.show()\n",
    "\n",
    "dfstatus_acceptance_peryear = pd.DataFrame(table_2[table_2['CASE_STATUS'] == 'CERTIFIED'].FILING_YEAR.value_counts() / table_2.FILING_YEAR.value_counts())\n",
    "dfstatus_acceptance_peryear = dfstatus_acceptance_peryear.sort_values(['FILING_YEAR'])\n",
    "status_acceptance_peryear = dfstatus_acceptance_peryear.plot(title = 'H1-B Petitions acceptance per year', kind = 'line')\n",
    "status_acceptance_peryear.set_xlabel('FILING YEAR')\n",
    "status_acceptance_peryear.set_ylabel('ACCEPTANCE RATIO')\n",
    "plt.show()"
   ]
  },
  {
   "cell_type": "code",
   "execution_count": 21,
   "id": "dd2f1147",
   "metadata": {},
   "outputs": [
    {
     "data": {
      "image/png": "[encoded data removed]",
      "text/plain": [
       "<Figure size 432x288 with 1 Axes>"
      ]
     },
     "metadata": {
      "needs_background": "light"
     },
     "output_type": "display_data"
    },
    {
     "data": {
      "text/html": [
       "<div>\n",
       "<style scoped>\n",
       "    .dataframe tbody tr th:only-of-type {\n",
       "        vertical-align: middle;\n",
       "    }\n",
       "\n",
       "    .dataframe tbody tr th {\n",
       "        vertical-align: top;\n",
       "    }\n",
       "\n",
       "    .dataframe thead tr th {\n",
       "        text-align: left;\n",
       "    }\n",
       "\n",
       "    .dataframe thead tr:last-of-type th {\n",
       "        text-align: right;\n",
       "    }\n",
       "</style>\n",
       "<table border=\"1\" class=\"dataframe\">\n",
       "  <thead>\n",
       "    <tr>\n",
       "      <th></th>\n",
       "      <th>PREVAILING_WAGE</th>\n",
       "    </tr>\n",
       "    <tr>\n",
       "      <th></th>\n",
       "      <th>median</th>\n",
       "    </tr>\n",
       "    <tr>\n",
       "      <th>FILING_YEAR</th>\n",
       "      <th></th>\n",
       "    </tr>\n",
       "  </thead>\n",
       "  <tbody>\n",
       "    <tr>\n",
       "      <th>2015</th>\n",
       "      <td>64314.0</td>\n",
       "    </tr>\n",
       "    <tr>\n",
       "      <th>2016</th>\n",
       "      <td>68411.0</td>\n",
       "    </tr>\n",
       "  </tbody>\n",
       "</table>\n",
       "</div>"
      ],
      "text/plain": [
       "            PREVAILING_WAGE\n",
       "                     median\n",
       "FILING_YEAR                \n",
       "2015         64314.0       \n",
       "2016         68411.0       "
      ]
     },
     "execution_count": 21,
     "metadata": {},
     "output_type": "execute_result"
    }
   ],
   "source": [
    "dfsalaries_trends_year = table_2.loc[:,['PREVAILING_WAGE', 'FILING_YEAR']].groupby(['FILING_YEAR']).agg(['median'])\n",
    "\n",
    "plot_salaries_trends_year = dfsalaries_trends_year.plot(kind = 'bar', color = 'g', legend = None)\n",
    "plot_salaries_trends_year.set_xlabel('FILING YEAR')\n",
    "plot_salaries_trends_year.set_ylabel('MEDIAN WAGE')\n",
    "plt.show()\n",
    "dfsalaries_trends_year"
   ]
  },
  {
   "cell_type": "code",
   "execution_count": 22,
   "id": "b79f8f39",
   "metadata": {},
   "outputs": [
    {
     "name": "stdout",
     "output_type": "stream",
     "text": [
      "['CERTIFIED' 'DENIED']\n"
     ]
    }
   ],
   "source": [
    "print(table_2['CASE_STATUS'].unique())\n",
    "table_2 = table_2.loc[table_2['CASE_STATUS'].isin([\"CERTIFIED\", \"DENIED\"])]"
   ]
  },
  {
   "cell_type": "code",
   "execution_count": 23,
   "id": "397efca3",
   "metadata": {},
   "outputs": [
    {
     "data": {
      "text/plain": [
       "CASE_STATUS           0    \n",
       "EMPLOYER_NAME         12   \n",
       "SOC_NAME              6    \n",
       "JOB_TITLE             3    \n",
       "FULL_TIME_POSITION    1    \n",
       "PREVAILING_WAGE       3    \n",
       "FILING_YEAR           0    \n",
       "WORKSITE              0    \n",
       "LONGITUDE             26082\n",
       "LATITUDE              26082\n",
       "dtype: int64"
      ]
     },
     "execution_count": 23,
     "metadata": {},
     "output_type": "execute_result"
    }
   ],
   "source": [
    "table_2.isnull().sum(axis = 0)"
   ]
  },
  {
   "cell_type": "code",
   "execution_count": 24,
   "id": "c460d937",
   "metadata": {},
   "outputs": [],
   "source": [
    "table_3 = table_2.dropna(axis=0, how='any', subset = ['EMPLOYER_NAME', 'SOC_NAME', 'JOB_TITLE', \n",
    "                                                      'FULL_TIME_POSITION', 'PREVAILING_WAGE'])"
   ]
  },
  {
   "cell_type": "code",
   "execution_count": 25,
   "id": "051ab38b",
   "metadata": {},
   "outputs": [
    {
     "name": "stdout",
     "output_type": "stream",
     "text": [
      "(929921, 10)\n",
      "(929899, 10)\n"
     ]
    }
   ],
   "source": [
    "print(table_2.shape)\n",
    "print(table_3.shape)"
   ]
  },
  {
   "cell_type": "code",
   "execution_count": 26,
   "id": "2daaa365",
   "metadata": {},
   "outputs": [
    {
     "data": {
      "text/plain": [
       "CERTIFIED    914240\n",
       "DENIED       15659 \n",
       "Name: CASE_STATUS, dtype: int64"
      ]
     },
     "execution_count": 26,
     "metadata": {},
     "output_type": "execute_result"
    }
   ],
   "source": [
    "table_3.CASE_STATUS.value_counts()"
   ]
  },
  {
   "cell_type": "code",
   "execution_count": 27,
   "id": "93c02a8b",
   "metadata": {},
   "outputs": [],
   "source": [
    "table_temp_2_Dx = table_3[table_3['CASE_STATUS'] == 'DENIED']"
   ]
  },
  {
   "cell_type": "code",
   "execution_count": 28,
   "id": "41e25843",
   "metadata": {},
   "outputs": [],
   "source": [
    "table_temp_2_Cx = table_3[table_3['CASE_STATUS'] == 'CERTIFIED']"
   ]
  },
  {
   "cell_type": "code",
   "execution_count": 29,
   "id": "d3c8a29f",
   "metadata": {},
   "outputs": [],
   "source": [
    "Input_Certified, Input_Certified_extra, y_certified, y_certified_extra = train_test_split(table_3[table_3.CASE_STATUS == 'CERTIFIED'],\\\n",
    "                                                                                          table_temp_2_Cx.CASE_STATUS, train_size= 0.06, random_state=1)"
   ]
  },
  {
   "cell_type": "code",
   "execution_count": 30,
   "id": "ec50c837",
   "metadata": {},
   "outputs": [],
   "source": [
    "training_dataframe = Input_Certified.append(table_temp_2_Dx)"
   ]
  },
  {
   "cell_type": "code",
   "execution_count": 31,
   "id": "9372e56a",
   "metadata": {},
   "outputs": [
    {
     "data": {
      "image/png": "[encoded data removed]",
      "text/plain": [
       "<Figure size 432x288 with 1 Axes>"
      ]
     },
     "metadata": {
      "needs_background": "light"
     },
     "output_type": "display_data"
    }
   ],
   "source": [
    "plot_after_ds = training_dataframe['CASE_STATUS'].value_counts().plot(title = 'CASE STATUS vs NUMBER OF PETITIONS', \\\n",
    "                                                                kind = 'bar', color = 'green')\n",
    "plot_after_ds.set_xlabel(\"CASE STATUS\")\n",
    "plot_after_ds.set_ylabel(\"NUMBER OF PETITIONS\")\n",
    "for p in plot_after_ds.patches:\n",
    "    plot_after_ds.annotate(str(p.get_height()), (p.get_x() * 1.0050, p.get_height() * 1.005))\n",
    "plt.show()"
   ]
  },
  {
   "cell_type": "code",
   "execution_count": 32,
   "id": "cf3edb8d",
   "metadata": {},
   "outputs": [
    {
     "name": "stdout",
     "output_type": "stream",
     "text": [
      "Case Status  2\n",
      "Unique Employers  23456\n",
      "Prevailing Wages  10818\n",
      "Unique SOCs  612\n",
      "Unique Job Titles  17232\n",
      "Unique Filing Year  2\n",
      "Unique Worksite State  4198\n",
      "Unique Employment Type  2\n"
     ]
    }
   ],
   "source": [
    "print(\"Case Status \",training_dataframe.CASE_STATUS.nunique())\n",
    "print(\"Unique Employers \",training_dataframe.EMPLOYER_NAME.nunique())\n",
    "print(\"Prevailing Wages \",training_dataframe.PREVAILING_WAGE.nunique())\n",
    "print(\"Unique SOCs \", training_dataframe.SOC_NAME.nunique())\n",
    "print(\"Unique Job Titles \",training_dataframe.JOB_TITLE.nunique())\n",
    "print(\"Unique Filing Year \",training_dataframe.FILING_YEAR.nunique())\n",
    "print(\"Unique Worksite State \",training_dataframe.WORKSITE.nunique())\n",
    "print(\"Unique Employment Type \", training_dataframe.FULL_TIME_POSITION.nunique())"
   ]
  },
  {
   "cell_type": "code",
   "execution_count": 33,
   "id": "1916245d",
   "metadata": {},
   "outputs": [],
   "source": [
    "def wage_categorization(wage):\n",
    "    if wage <=50000:\n",
    "        return \"VERY LOW\"\n",
    "    elif wage >50000 and wage <= 70000:\n",
    "        return \"LOW\"\n",
    "    elif wage >70000 and wage <= 90000:\n",
    "        return \"MEDIUM\"\n",
    "    elif wage >90000 and wage<=150000:\n",
    "        return \"HIGH\"\n",
    "    elif wage >=150000:\n",
    "        return \"VERY HIGH\""
   ]
  },
  {
   "cell_type": "code",
   "execution_count": 34,
   "id": "0f31d1bf",
   "metadata": {},
   "outputs": [],
   "source": [
    "def categorisation_visagrant(ratio_of_acceptance):\n",
    "    if ratio_of_acceptance == -1:\n",
    "        return \"AR\"\n",
    "    elif ratio_of_acceptance >=0.0 and ratio_of_acceptance<0.20:\n",
    "        return \"VLA\"\n",
    "    elif ratio_of_acceptance>=0.20 and ratio_of_acceptance<0.40:\n",
    "        return \"LA\"\n",
    "    elif ratio_of_acceptance>=0.40 and ratio_of_acceptance<0.60:\n",
    "        return \"MA\"\n",
    "    elif ratio_of_acceptance>=0.60 and ratio_of_acceptance<0.80:\n",
    "        return \"HA\"\n",
    "    elif ratio_of_acceptance>=0.80:\n",
    "        return \"VHA\""
   ]
  },
  {
   "cell_type": "code",
   "execution_count": 35,
   "id": "6ccacb10",
   "metadata": {},
   "outputs": [],
   "source": [
    "def state_extractor(work_site):\n",
    "    return work_site.split(', ')[1]"
   ]
  },
  {
   "cell_type": "code",
   "execution_count": 36,
   "id": "2ea1bfda",
   "metadata": {},
   "outputs": [],
   "source": [
    "training_dataframe['WORKSITE'] = training_dataframe['WORKSITE'].apply(state_extractor)"
   ]
  },
  {
   "cell_type": "code",
   "execution_count": 37,
   "id": "38174b65",
   "metadata": {},
   "outputs": [
    {
     "data": {
      "text/plain": [
       "array(['NEW YORK', 'NEW JERSEY', 'KENTUCKY', 'CALIFORNIA', 'KANSAS',\n",
       "       'WASHINGTON', 'FLORIDA', 'NEBRASKA', 'WISCONSIN', 'GEORGIA',\n",
       "       'TEXAS', 'TENNESSEE', 'ILLINOIS', 'MINNESOTA', 'MARYLAND',\n",
       "       'NORTH CAROLINA', 'MICHIGAN', 'VIRGINIA', 'ARKANSAS', 'MISSOURI',\n",
       "       'IOWA', 'OKLAHOMA', 'PENNSYLVANIA', 'CONNECTICUT', 'OREGON',\n",
       "       'UTAH', 'IDAHO', 'OHIO', 'COLORADO', 'ARIZONA', 'MASSACHUSETTS',\n",
       "       'SOUTH CAROLINA', 'DISTRICT OF COLUMBIA', 'NEVADA', 'INDIANA',\n",
       "       'ALABAMA', 'RHODE ISLAND', 'NEW MEXICO', 'NEW HAMPSHIRE',\n",
       "       'SOUTH DAKOTA', 'LOUISIANA', 'MAINE', 'DELAWARE', 'MISSISSIPPI',\n",
       "       'NA', 'NORTH DAKOTA', 'VERMONT', 'MONTANA', 'HAWAII',\n",
       "       'WEST VIRGINIA', 'ALASKA', 'PUERTO RICO', 'WYOMING'], dtype=object)"
      ]
     },
     "execution_count": 37,
     "metadata": {},
     "output_type": "execute_result"
    }
   ],
   "source": [
    "training_dataframe.WORKSITE.unique()"
   ]
  },
  {
   "cell_type": "code",
   "execution_count": 38,
   "id": "c0e9ca01",
   "metadata": {},
   "outputs": [],
   "source": [
    "training_dataframe['WAGE_CATEGORY'] = training_dataframe['PREVAILING_WAGE'].apply(wage_categorization)"
   ]
  },
  {
   "cell_type": "code",
   "execution_count": 39,
   "id": "81b6bd84",
   "metadata": {},
   "outputs": [],
   "source": [
    "training_dataframe_1 = training_dataframe.loc[:,['EMPLOYER_NAME', 'CASE_STATUS']]\n",
    "training_dataframe_1s = training_dataframe.loc[:,['SOC_NAME', 'CASE_STATUS']]\n",
    "training_dataframe_1j = training_dataframe.loc[:,['JOB_TITLE', 'CASE_STATUS']]"
   ]
  },
  {
   "cell_type": "code",
   "execution_count": 40,
   "id": "bf0e4e15",
   "metadata": {},
   "outputs": [],
   "source": [
    "training_dataframe_2_C = training_dataframe_1[training_dataframe_1.CASE_STATUS == 'CERTIFIED'].EMPLOYER_NAME\n",
    "training_dataframe_2_Cs = training_dataframe_1s[training_dataframe_1s.CASE_STATUS == 'CERTIFIED'].SOC_NAME\n",
    "training_dataframe_2_Cj = training_dataframe_1j[training_dataframe_1j.CASE_STATUS == 'CERTIFIED'].JOB_TITLE\n",
    "positive_counts = training_dataframe_2_C.value_counts()\n",
    "positive_counts_s = training_dataframe_2_Cs.value_counts()\n",
    "positive_counts_j = training_dataframe_2_Cj.value_counts()"
   ]
  },
  {
   "cell_type": "code",
   "execution_count": 41,
   "id": "b149c3ef",
   "metadata": {},
   "outputs": [],
   "source": [
    "total_counts = training_dataframe_1.EMPLOYER_NAME.value_counts()\n",
    "total_counts_s = training_dataframe_1s.SOC_NAME.value_counts()\n",
    "total_counts_j = training_dataframe_1j.JOB_TITLE.value_counts()"
   ]
  },
  {
   "cell_type": "code",
   "execution_count": 42,
   "id": "d05590a8",
   "metadata": {},
   "outputs": [],
   "source": [
    "final_ratio_series = positive_counts / total_counts\n",
    "\n",
    "final_ratio_series.fillna(-1, inplace=True)\n",
    "final_classification_employer = final_ratio_series.apply(categorisation_visagrant)\n",
    "training_dataframe['EMPLOYER_ACCEPTANCE'] = training_dataframe.EMPLOYER_NAME.map(final_classification_employer)"
   ]
  },
  {
   "cell_type": "code",
   "execution_count": 43,
   "id": "048cddda",
   "metadata": {},
   "outputs": [],
   "source": [
    "final_ratio_series_s = positive_counts_s / total_counts_s\n",
    "final_ratio_series_s.fillna(-1, inplace=True)\n",
    "final_classification_soc = final_ratio_series_s.apply(categorisation_visagrant)\n",
    "training_dataframe['SOC_ACCEPTANCE'] = training_dataframe.SOC_NAME.map(final_classification_soc)"
   ]
  },
  {
   "cell_type": "code",
   "execution_count": 44,
   "id": "40df27bf",
   "metadata": {},
   "outputs": [],
   "source": [
    "final_ratio_series_j = positive_counts_j / total_counts_j\n",
    "final_ratio_series_j.fillna(-1, inplace=True)\n",
    "final_classification_job = final_ratio_series_j.apply(categorisation_visagrant)\n",
    "training_dataframe['JOB_ACCEPTANCE'] = training_dataframe.JOB_TITLE.map(final_classification_job)"
   ]
  },
  {
   "cell_type": "code",
   "execution_count": 45,
   "id": "b49f3d3b",
   "metadata": {},
   "outputs": [
    {
     "name": "stdout",
     "output_type": "stream",
     "text": [
      "Case Status  2\n",
      "Unique Employers  6\n",
      "Wages Category 5\n",
      "Unique SOCs  6\n",
      "Unique Job Titles  6\n",
      "Unique Filing Year  2\n",
      "Unique Worksite State  53\n",
      "Unique Employment Type  2\n"
     ]
    }
   ],
   "source": [
    "print(\"Case Status \",training_dataframe.CASE_STATUS.nunique())\n",
    "print(\"Unique Employers \",training_dataframe.EMPLOYER_ACCEPTANCE.nunique())\n",
    "print(\"Wages Category\", training_dataframe.WAGE_CATEGORY.nunique())\n",
    "print(\"Unique SOCs \", training_dataframe.SOC_ACCEPTANCE.nunique())\n",
    "print(\"Unique Job Titles \",training_dataframe.JOB_ACCEPTANCE.nunique())\n",
    "print(\"Unique Filing Year \",training_dataframe.FILING_YEAR.nunique())\n",
    "print(\"Unique Worksite State \",training_dataframe.WORKSITE.nunique())\n",
    "print(\"Unique Employment Type \", training_dataframe.FULL_TIME_POSITION.nunique())"
   ]
  },
  {
   "cell_type": "code",
   "execution_count": 46,
   "id": "46f2bc64",
   "metadata": {},
   "outputs": [],
   "source": [
    "dict_cs = {\"CERTIFIED\" : 1, \"DENIED\": 0}\n",
    "dict_fp = {\"Y\" : 1, \"N\" : 0}\n",
    "try:\n",
    "    \n",
    "    training_dataframe['CASE_STATUS'] = training_dataframe['CASE_STATUS'].apply(lambda x: dict_cs[x])\n",
    "    training_dataframe['FULL_TIME_POSITION'] = training_dataframe['FULL_TIME_POSITION'].apply(lambda x: dict_fp[x])\n",
    "except:\n",
    "    pass"
   ]
  },
  {
   "cell_type": "code",
   "execution_count": 47,
   "id": "a2906a76",
   "metadata": {},
   "outputs": [
    {
     "data": {
      "text/html": [
       "<div>\n",
       "<style scoped>\n",
       "    .dataframe tbody tr th:only-of-type {\n",
       "        vertical-align: middle;\n",
       "    }\n",
       "\n",
       "    .dataframe tbody tr th {\n",
       "        vertical-align: top;\n",
       "    }\n",
       "\n",
       "    .dataframe thead th {\n",
       "        text-align: right;\n",
       "    }\n",
       "</style>\n",
       "<table border=\"1\" class=\"dataframe\">\n",
       "  <thead>\n",
       "    <tr style=\"text-align: right;\">\n",
       "      <th></th>\n",
       "      <th>CASE_STATUS</th>\n",
       "      <th>FILING_YEAR</th>\n",
       "      <th>WORKSITE</th>\n",
       "      <th>WAGE_CATEGORY</th>\n",
       "      <th>EMPLOYER_ACCEPTANCE</th>\n",
       "      <th>JOB_ACCEPTANCE</th>\n",
       "      <th>SOC_ACCEPTANCE</th>\n",
       "      <th>FULL_TIME_POSITION</th>\n",
       "    </tr>\n",
       "  </thead>\n",
       "  <tbody>\n",
       "    <tr>\n",
       "      <th>40</th>\n",
       "      <td>0</td>\n",
       "      <td>2016</td>\n",
       "      <td>WASHINGTON</td>\n",
       "      <td>VERY HIGH</td>\n",
       "      <td>AR</td>\n",
       "      <td>LA</td>\n",
       "      <td>LA</td>\n",
       "      <td>1</td>\n",
       "    </tr>\n",
       "    <tr>\n",
       "      <th>48</th>\n",
       "      <td>0</td>\n",
       "      <td>2016</td>\n",
       "      <td>CALIFORNIA</td>\n",
       "      <td>VERY HIGH</td>\n",
       "      <td>AR</td>\n",
       "      <td>MA</td>\n",
       "      <td>LA</td>\n",
       "      <td>1</td>\n",
       "    </tr>\n",
       "    <tr>\n",
       "      <th>71</th>\n",
       "      <td>1</td>\n",
       "      <td>2016</td>\n",
       "      <td>PENNSYLVANIA</td>\n",
       "      <td>VERY HIGH</td>\n",
       "      <td>VHA</td>\n",
       "      <td>MA</td>\n",
       "      <td>LA</td>\n",
       "      <td>1</td>\n",
       "    </tr>\n",
       "    <tr>\n",
       "      <th>92</th>\n",
       "      <td>0</td>\n",
       "      <td>2016</td>\n",
       "      <td>MICHIGAN</td>\n",
       "      <td>HIGH</td>\n",
       "      <td>AR</td>\n",
       "      <td>LA</td>\n",
       "      <td>LA</td>\n",
       "      <td>1</td>\n",
       "    </tr>\n",
       "    <tr>\n",
       "      <th>96</th>\n",
       "      <td>0</td>\n",
       "      <td>2016</td>\n",
       "      <td>ILLINOIS</td>\n",
       "      <td>VERY HIGH</td>\n",
       "      <td>AR</td>\n",
       "      <td>AR</td>\n",
       "      <td>LA</td>\n",
       "      <td>1</td>\n",
       "    </tr>\n",
       "  </tbody>\n",
       "</table>\n",
       "</div>"
      ],
      "text/plain": [
       "    CASE_STATUS  FILING_YEAR      WORKSITE WAGE_CATEGORY EMPLOYER_ACCEPTANCE  \\\n",
       "40  0            2016         WASHINGTON    VERY HIGH     AR                   \n",
       "48  0            2016         CALIFORNIA    VERY HIGH     AR                   \n",
       "71  1            2016         PENNSYLVANIA  VERY HIGH     VHA                  \n",
       "92  0            2016         MICHIGAN      HIGH          AR                   \n",
       "96  0            2016         ILLINOIS      VERY HIGH     AR                   \n",
       "\n",
       "   JOB_ACCEPTANCE SOC_ACCEPTANCE  FULL_TIME_POSITION  \n",
       "40  LA             LA             1                   \n",
       "48  MA             LA             1                   \n",
       "71  MA             LA             1                   \n",
       "92  LA             LA             1                   \n",
       "96  AR             LA             1                   "
      ]
     },
     "execution_count": 47,
     "metadata": {},
     "output_type": "execute_result"
    }
   ],
   "source": [
    "training_dataframe['FILING_YEAR'] = training_dataframe['FILING_YEAR'].astype('int')\n",
    "training_dataframe.sort_index(inplace = True)\n",
    "training_dataframe = training_dataframe.loc[:, ['CASE_STATUS', 'FILING_YEAR',\\\n",
    "                                                'WORKSITE', 'WAGE_CATEGORY',  'EMPLOYER_ACCEPTANCE', 'JOB_ACCEPTANCE', 'SOC_ACCEPTANCE', 'FULL_TIME_POSITION']]\n",
    "training_dataframe.head()"
   ]
  },
  {
   "cell_type": "code",
   "execution_count": 48,
   "id": "4a469eb7",
   "metadata": {},
   "outputs": [
    {
     "data": {
      "text/html": [
       "<div>\n",
       "<style scoped>\n",
       "    .dataframe tbody tr th:only-of-type {\n",
       "        vertical-align: middle;\n",
       "    }\n",
       "\n",
       "    .dataframe tbody tr th {\n",
       "        vertical-align: top;\n",
       "    }\n",
       "\n",
       "    .dataframe thead th {\n",
       "        text-align: right;\n",
       "    }\n",
       "</style>\n",
       "<table border=\"1\" class=\"dataframe\">\n",
       "  <thead>\n",
       "    <tr style=\"text-align: right;\">\n",
       "      <th></th>\n",
       "      <th>CASE_STATUS</th>\n",
       "      <th>FILING_YEAR_2016</th>\n",
       "      <th>WORKSITE_ALASKA</th>\n",
       "      <th>WORKSITE_ARIZONA</th>\n",
       "      <th>WORKSITE_ARKANSAS</th>\n",
       "      <th>WORKSITE_CALIFORNIA</th>\n",
       "      <th>WORKSITE_COLORADO</th>\n",
       "      <th>WORKSITE_CONNECTICUT</th>\n",
       "      <th>WORKSITE_DELAWARE</th>\n",
       "      <th>WORKSITE_DISTRICT OF COLUMBIA</th>\n",
       "      <th>...</th>\n",
       "      <th>JOB_ACCEPTANCE_HA</th>\n",
       "      <th>JOB_ACCEPTANCE_LA</th>\n",
       "      <th>JOB_ACCEPTANCE_MA</th>\n",
       "      <th>JOB_ACCEPTANCE_VHA</th>\n",
       "      <th>JOB_ACCEPTANCE_VLA</th>\n",
       "      <th>SOC_ACCEPTANCE_HA</th>\n",
       "      <th>SOC_ACCEPTANCE_LA</th>\n",
       "      <th>SOC_ACCEPTANCE_MA</th>\n",
       "      <th>SOC_ACCEPTANCE_VHA</th>\n",
       "      <th>SOC_ACCEPTANCE_VLA</th>\n",
       "    </tr>\n",
       "  </thead>\n",
       "  <tbody>\n",
       "    <tr>\n",
       "      <th>40</th>\n",
       "      <td>0</td>\n",
       "      <td>1</td>\n",
       "      <td>0</td>\n",
       "      <td>0</td>\n",
       "      <td>0</td>\n",
       "      <td>0</td>\n",
       "      <td>0</td>\n",
       "      <td>0</td>\n",
       "      <td>0</td>\n",
       "      <td>0</td>\n",
       "      <td>...</td>\n",
       "      <td>0</td>\n",
       "      <td>1</td>\n",
       "      <td>0</td>\n",
       "      <td>0</td>\n",
       "      <td>0</td>\n",
       "      <td>0</td>\n",
       "      <td>1</td>\n",
       "      <td>0</td>\n",
       "      <td>0</td>\n",
       "      <td>0</td>\n",
       "    </tr>\n",
       "    <tr>\n",
       "      <th>48</th>\n",
       "      <td>0</td>\n",
       "      <td>1</td>\n",
       "      <td>0</td>\n",
       "      <td>0</td>\n",
       "      <td>0</td>\n",
       "      <td>1</td>\n",
       "      <td>0</td>\n",
       "      <td>0</td>\n",
       "      <td>0</td>\n",
       "      <td>0</td>\n",
       "      <td>...</td>\n",
       "      <td>0</td>\n",
       "      <td>0</td>\n",
       "      <td>1</td>\n",
       "      <td>0</td>\n",
       "      <td>0</td>\n",
       "      <td>0</td>\n",
       "      <td>1</td>\n",
       "      <td>0</td>\n",
       "      <td>0</td>\n",
       "      <td>0</td>\n",
       "    </tr>\n",
       "    <tr>\n",
       "      <th>71</th>\n",
       "      <td>1</td>\n",
       "      <td>1</td>\n",
       "      <td>0</td>\n",
       "      <td>0</td>\n",
       "      <td>0</td>\n",
       "      <td>0</td>\n",
       "      <td>0</td>\n",
       "      <td>0</td>\n",
       "      <td>0</td>\n",
       "      <td>0</td>\n",
       "      <td>...</td>\n",
       "      <td>0</td>\n",
       "      <td>0</td>\n",
       "      <td>1</td>\n",
       "      <td>0</td>\n",
       "      <td>0</td>\n",
       "      <td>0</td>\n",
       "      <td>1</td>\n",
       "      <td>0</td>\n",
       "      <td>0</td>\n",
       "      <td>0</td>\n",
       "    </tr>\n",
       "    <tr>\n",
       "      <th>92</th>\n",
       "      <td>0</td>\n",
       "      <td>1</td>\n",
       "      <td>0</td>\n",
       "      <td>0</td>\n",
       "      <td>0</td>\n",
       "      <td>0</td>\n",
       "      <td>0</td>\n",
       "      <td>0</td>\n",
       "      <td>0</td>\n",
       "      <td>0</td>\n",
       "      <td>...</td>\n",
       "      <td>0</td>\n",
       "      <td>1</td>\n",
       "      <td>0</td>\n",
       "      <td>0</td>\n",
       "      <td>0</td>\n",
       "      <td>0</td>\n",
       "      <td>1</td>\n",
       "      <td>0</td>\n",
       "      <td>0</td>\n",
       "      <td>0</td>\n",
       "    </tr>\n",
       "    <tr>\n",
       "      <th>96</th>\n",
       "      <td>0</td>\n",
       "      <td>1</td>\n",
       "      <td>0</td>\n",
       "      <td>0</td>\n",
       "      <td>0</td>\n",
       "      <td>0</td>\n",
       "      <td>0</td>\n",
       "      <td>0</td>\n",
       "      <td>0</td>\n",
       "      <td>0</td>\n",
       "      <td>...</td>\n",
       "      <td>0</td>\n",
       "      <td>0</td>\n",
       "      <td>0</td>\n",
       "      <td>0</td>\n",
       "      <td>0</td>\n",
       "      <td>0</td>\n",
       "      <td>1</td>\n",
       "      <td>0</td>\n",
       "      <td>0</td>\n",
       "      <td>0</td>\n",
       "    </tr>\n",
       "  </tbody>\n",
       "</table>\n",
       "<p>5 rows × 74 columns</p>\n",
       "</div>"
      ],
      "text/plain": [
       "    CASE_STATUS  FILING_YEAR_2016  WORKSITE_ALASKA  WORKSITE_ARIZONA  \\\n",
       "40  0            1                 0                0                  \n",
       "48  0            1                 0                0                  \n",
       "71  1            1                 0                0                  \n",
       "92  0            1                 0                0                  \n",
       "96  0            1                 0                0                  \n",
       "\n",
       "    WORKSITE_ARKANSAS  WORKSITE_CALIFORNIA  WORKSITE_COLORADO  \\\n",
       "40  0                  0                    0                   \n",
       "48  0                  1                    0                   \n",
       "71  0                  0                    0                   \n",
       "92  0                  0                    0                   \n",
       "96  0                  0                    0                   \n",
       "\n",
       "    WORKSITE_CONNECTICUT  WORKSITE_DELAWARE  WORKSITE_DISTRICT OF COLUMBIA  \\\n",
       "40  0                     0                  0                               \n",
       "48  0                     0                  0                               \n",
       "71  0                     0                  0                               \n",
       "92  0                     0                  0                               \n",
       "96  0                     0                  0                               \n",
       "\n",
       "    ...  JOB_ACCEPTANCE_HA  JOB_ACCEPTANCE_LA  JOB_ACCEPTANCE_MA  \\\n",
       "40  ...  0                  1                  0                   \n",
       "48  ...  0                  0                  1                   \n",
       "71  ...  0                  0                  1                   \n",
       "92  ...  0                  1                  0                   \n",
       "96  ...  0                  0                  0                   \n",
       "\n",
       "    JOB_ACCEPTANCE_VHA  JOB_ACCEPTANCE_VLA  SOC_ACCEPTANCE_HA  \\\n",
       "40  0                   0                   0                   \n",
       "48  0                   0                   0                   \n",
       "71  0                   0                   0                   \n",
       "92  0                   0                   0                   \n",
       "96  0                   0                   0                   \n",
       "\n",
       "    SOC_ACCEPTANCE_LA  SOC_ACCEPTANCE_MA  SOC_ACCEPTANCE_VHA  \\\n",
       "40  1                  0                  0                    \n",
       "48  1                  0                  0                    \n",
       "71  1                  0                  0                    \n",
       "92  1                  0                  0                    \n",
       "96  1                  0                  0                    \n",
       "\n",
       "    SOC_ACCEPTANCE_VLA  \n",
       "40  0                   \n",
       "48  0                   \n",
       "71  0                   \n",
       "92  0                   \n",
       "96  0                   \n",
       "\n",
       "[5 rows x 74 columns]"
      ]
     },
     "execution_count": 48,
     "metadata": {},
     "output_type": "execute_result"
    }
   ],
   "source": [
    "final_df_train = pd.get_dummies(training_dataframe, columns=['FILING_YEAR', 'WORKSITE', 'FULL_TIME_POSITION', 'WAGE_CATEGORY', 'EMPLOYER_ACCEPTANCE',\n",
    "                                                             \n",
    "                                                                'JOB_ACCEPTANCE', 'SOC_ACCEPTANCE' ], drop_first=True)\n",
    "final_df_train.head()"
   ]
  },
  {
   "cell_type": "code",
   "execution_count": 49,
   "id": "cfa9f968",
   "metadata": {},
   "outputs": [
    {
     "name": "stderr",
     "output_type": "stream",
     "text": [
      "C:\\Users\\SivaTharun\\anaconda3\\lib\\site-packages\\sklearn\\utils\\validation.py:70: FutureWarning: Pass n_features_to_select=30 as keyword args. From version 1.0 (renaming of 0.25) passing these as positional arguments will result in an error\n",
      "  warnings.warn(f\"Pass {args_msg} as keyword args. From version \"\n",
      "C:\\Users\\SivaTharun\\anaconda3\\lib\\site-packages\\sklearn\\linear_model\\_logistic.py:763: ConvergenceWarning: lbfgs failed to converge (status=1):\n",
      "STOP: TOTAL NO. of ITERATIONS REACHED LIMIT.\n",
      "\n",
      "Increase the number of iterations (max_iter) or scale the data as shown in:\n",
      "    https://scikit-learn.org/stable/modules/preprocessing.html\n",
      "Please also refer to the documentation for alternative solver options:\n",
      "    https://scikit-learn.org/stable/modules/linear_model.html#logistic-regression\n",
      "  n_iter_i = _check_optimize_result(\n",
      "C:\\Users\\SivaTharun\\anaconda3\\lib\\site-packages\\sklearn\\linear_model\\_logistic.py:763: ConvergenceWarning: lbfgs failed to converge (status=1):\n",
      "STOP: TOTAL NO. of ITERATIONS REACHED LIMIT.\n",
      "\n",
      "Increase the number of iterations (max_iter) or scale the data as shown in:\n",
      "    https://scikit-learn.org/stable/modules/preprocessing.html\n",
      "Please also refer to the documentation for alternative solver options:\n",
      "    https://scikit-learn.org/stable/modules/linear_model.html#logistic-regression\n",
      "  n_iter_i = _check_optimize_result(\n",
      "C:\\Users\\SivaTharun\\anaconda3\\lib\\site-packages\\sklearn\\linear_model\\_logistic.py:763: ConvergenceWarning: lbfgs failed to converge (status=1):\n",
      "STOP: TOTAL NO. of ITERATIONS REACHED LIMIT.\n",
      "\n",
      "Increase the number of iterations (max_iter) or scale the data as shown in:\n",
      "    https://scikit-learn.org/stable/modules/preprocessing.html\n",
      "Please also refer to the documentation for alternative solver options:\n",
      "    https://scikit-learn.org/stable/modules/linear_model.html#logistic-regression\n",
      "  n_iter_i = _check_optimize_result(\n",
      "C:\\Users\\SivaTharun\\anaconda3\\lib\\site-packages\\sklearn\\linear_model\\_logistic.py:763: ConvergenceWarning: lbfgs failed to converge (status=1):\n",
      "STOP: TOTAL NO. of ITERATIONS REACHED LIMIT.\n",
      "\n",
      "Increase the number of iterations (max_iter) or scale the data as shown in:\n",
      "    https://scikit-learn.org/stable/modules/preprocessing.html\n",
      "Please also refer to the documentation for alternative solver options:\n",
      "    https://scikit-learn.org/stable/modules/linear_model.html#logistic-regression\n",
      "  n_iter_i = _check_optimize_result(\n",
      "C:\\Users\\SivaTharun\\anaconda3\\lib\\site-packages\\sklearn\\linear_model\\_logistic.py:763: ConvergenceWarning: lbfgs failed to converge (status=1):\n",
      "STOP: TOTAL NO. of ITERATIONS REACHED LIMIT.\n",
      "\n",
      "Increase the number of iterations (max_iter) or scale the data as shown in:\n",
      "    https://scikit-learn.org/stable/modules/preprocessing.html\n",
      "Please also refer to the documentation for alternative solver options:\n",
      "    https://scikit-learn.org/stable/modules/linear_model.html#logistic-regression\n",
      "  n_iter_i = _check_optimize_result(\n",
      "C:\\Users\\SivaTharun\\anaconda3\\lib\\site-packages\\sklearn\\linear_model\\_logistic.py:763: ConvergenceWarning: lbfgs failed to converge (status=1):\n",
      "STOP: TOTAL NO. of ITERATIONS REACHED LIMIT.\n",
      "\n",
      "Increase the number of iterations (max_iter) or scale the data as shown in:\n",
      "    https://scikit-learn.org/stable/modules/preprocessing.html\n",
      "Please also refer to the documentation for alternative solver options:\n",
      "    https://scikit-learn.org/stable/modules/linear_model.html#logistic-regression\n",
      "  n_iter_i = _check_optimize_result(\n",
      "C:\\Users\\SivaTharun\\anaconda3\\lib\\site-packages\\sklearn\\linear_model\\_logistic.py:763: ConvergenceWarning: lbfgs failed to converge (status=1):\n",
      "STOP: TOTAL NO. of ITERATIONS REACHED LIMIT.\n",
      "\n",
      "Increase the number of iterations (max_iter) or scale the data as shown in:\n",
      "    https://scikit-learn.org/stable/modules/preprocessing.html\n",
      "Please also refer to the documentation for alternative solver options:\n",
      "    https://scikit-learn.org/stable/modules/linear_model.html#logistic-regression\n",
      "  n_iter_i = _check_optimize_result(\n",
      "C:\\Users\\SivaTharun\\anaconda3\\lib\\site-packages\\sklearn\\linear_model\\_logistic.py:763: ConvergenceWarning: lbfgs failed to converge (status=1):\n",
      "STOP: TOTAL NO. of ITERATIONS REACHED LIMIT.\n",
      "\n",
      "Increase the number of iterations (max_iter) or scale the data as shown in:\n",
      "    https://scikit-learn.org/stable/modules/preprocessing.html\n",
      "Please also refer to the documentation for alternative solver options:\n",
      "    https://scikit-learn.org/stable/modules/linear_model.html#logistic-regression\n",
      "  n_iter_i = _check_optimize_result(\n",
      "C:\\Users\\SivaTharun\\anaconda3\\lib\\site-packages\\sklearn\\linear_model\\_logistic.py:763: ConvergenceWarning: lbfgs failed to converge (status=1):\n",
      "STOP: TOTAL NO. of ITERATIONS REACHED LIMIT.\n",
      "\n",
      "Increase the number of iterations (max_iter) or scale the data as shown in:\n",
      "    https://scikit-learn.org/stable/modules/preprocessing.html\n",
      "Please also refer to the documentation for alternative solver options:\n",
      "    https://scikit-learn.org/stable/modules/linear_model.html#logistic-regression\n",
      "  n_iter_i = _check_optimize_result(\n",
      "C:\\Users\\SivaTharun\\anaconda3\\lib\\site-packages\\sklearn\\linear_model\\_logistic.py:763: ConvergenceWarning: lbfgs failed to converge (status=1):\n",
      "STOP: TOTAL NO. of ITERATIONS REACHED LIMIT.\n",
      "\n",
      "Increase the number of iterations (max_iter) or scale the data as shown in:\n",
      "    https://scikit-learn.org/stable/modules/preprocessing.html\n",
      "Please also refer to the documentation for alternative solver options:\n",
      "    https://scikit-learn.org/stable/modules/linear_model.html#logistic-regression\n",
      "  n_iter_i = _check_optimize_result(\n",
      "C:\\Users\\SivaTharun\\anaconda3\\lib\\site-packages\\sklearn\\linear_model\\_logistic.py:763: ConvergenceWarning: lbfgs failed to converge (status=1):\n",
      "STOP: TOTAL NO. of ITERATIONS REACHED LIMIT.\n",
      "\n",
      "Increase the number of iterations (max_iter) or scale the data as shown in:\n",
      "    https://scikit-learn.org/stable/modules/preprocessing.html\n",
      "Please also refer to the documentation for alternative solver options:\n",
      "    https://scikit-learn.org/stable/modules/linear_model.html#logistic-regression\n",
      "  n_iter_i = _check_optimize_result(\n",
      "C:\\Users\\SivaTharun\\anaconda3\\lib\\site-packages\\sklearn\\linear_model\\_logistic.py:763: ConvergenceWarning: lbfgs failed to converge (status=1):\n",
      "STOP: TOTAL NO. of ITERATIONS REACHED LIMIT.\n",
      "\n",
      "Increase the number of iterations (max_iter) or scale the data as shown in:\n",
      "    https://scikit-learn.org/stable/modules/preprocessing.html\n",
      "Please also refer to the documentation for alternative solver options:\n",
      "    https://scikit-learn.org/stable/modules/linear_model.html#logistic-regression\n",
      "  n_iter_i = _check_optimize_result(\n",
      "C:\\Users\\SivaTharun\\anaconda3\\lib\\site-packages\\sklearn\\linear_model\\_logistic.py:763: ConvergenceWarning: lbfgs failed to converge (status=1):\n",
      "STOP: TOTAL NO. of ITERATIONS REACHED LIMIT.\n",
      "\n",
      "Increase the number of iterations (max_iter) or scale the data as shown in:\n",
      "    https://scikit-learn.org/stable/modules/preprocessing.html\n",
      "Please also refer to the documentation for alternative solver options:\n",
      "    https://scikit-learn.org/stable/modules/linear_model.html#logistic-regression\n",
      "  n_iter_i = _check_optimize_result(\n",
      "C:\\Users\\SivaTharun\\anaconda3\\lib\\site-packages\\sklearn\\linear_model\\_logistic.py:763: ConvergenceWarning: lbfgs failed to converge (status=1):\n",
      "STOP: TOTAL NO. of ITERATIONS REACHED LIMIT.\n",
      "\n",
      "Increase the number of iterations (max_iter) or scale the data as shown in:\n",
      "    https://scikit-learn.org/stable/modules/preprocessing.html\n",
      "Please also refer to the documentation for alternative solver options:\n",
      "    https://scikit-learn.org/stable/modules/linear_model.html#logistic-regression\n",
      "  n_iter_i = _check_optimize_result(\n",
      "C:\\Users\\SivaTharun\\anaconda3\\lib\\site-packages\\sklearn\\linear_model\\_logistic.py:763: ConvergenceWarning: lbfgs failed to converge (status=1):\n",
      "STOP: TOTAL NO. of ITERATIONS REACHED LIMIT.\n",
      "\n",
      "Increase the number of iterations (max_iter) or scale the data as shown in:\n",
      "    https://scikit-learn.org/stable/modules/preprocessing.html\n",
      "Please also refer to the documentation for alternative solver options:\n",
      "    https://scikit-learn.org/stable/modules/linear_model.html#logistic-regression\n",
      "  n_iter_i = _check_optimize_result(\n",
      "C:\\Users\\SivaTharun\\anaconda3\\lib\\site-packages\\sklearn\\linear_model\\_logistic.py:763: ConvergenceWarning: lbfgs failed to converge (status=1):\n",
      "STOP: TOTAL NO. of ITERATIONS REACHED LIMIT.\n",
      "\n",
      "Increase the number of iterations (max_iter) or scale the data as shown in:\n",
      "    https://scikit-learn.org/stable/modules/preprocessing.html\n",
      "Please also refer to the documentation for alternative solver options:\n",
      "    https://scikit-learn.org/stable/modules/linear_model.html#logistic-regression\n",
      "  n_iter_i = _check_optimize_result(\n",
      "C:\\Users\\SivaTharun\\anaconda3\\lib\\site-packages\\sklearn\\linear_model\\_logistic.py:763: ConvergenceWarning: lbfgs failed to converge (status=1):\n",
      "STOP: TOTAL NO. of ITERATIONS REACHED LIMIT.\n",
      "\n",
      "Increase the number of iterations (max_iter) or scale the data as shown in:\n",
      "    https://scikit-learn.org/stable/modules/preprocessing.html\n",
      "Please also refer to the documentation for alternative solver options:\n",
      "    https://scikit-learn.org/stable/modules/linear_model.html#logistic-regression\n",
      "  n_iter_i = _check_optimize_result(\n",
      "C:\\Users\\SivaTharun\\anaconda3\\lib\\site-packages\\sklearn\\linear_model\\_logistic.py:763: ConvergenceWarning: lbfgs failed to converge (status=1):\n",
      "STOP: TOTAL NO. of ITERATIONS REACHED LIMIT.\n",
      "\n",
      "Increase the number of iterations (max_iter) or scale the data as shown in:\n",
      "    https://scikit-learn.org/stable/modules/preprocessing.html\n",
      "Please also refer to the documentation for alternative solver options:\n",
      "    https://scikit-learn.org/stable/modules/linear_model.html#logistic-regression\n",
      "  n_iter_i = _check_optimize_result(\n",
      "C:\\Users\\SivaTharun\\anaconda3\\lib\\site-packages\\sklearn\\linear_model\\_logistic.py:763: ConvergenceWarning: lbfgs failed to converge (status=1):\n",
      "STOP: TOTAL NO. of ITERATIONS REACHED LIMIT.\n",
      "\n",
      "Increase the number of iterations (max_iter) or scale the data as shown in:\n",
      "    https://scikit-learn.org/stable/modules/preprocessing.html\n",
      "Please also refer to the documentation for alternative solver options:\n",
      "    https://scikit-learn.org/stable/modules/linear_model.html#logistic-regression\n",
      "  n_iter_i = _check_optimize_result(\n",
      "C:\\Users\\SivaTharun\\anaconda3\\lib\\site-packages\\sklearn\\linear_model\\_logistic.py:763: ConvergenceWarning: lbfgs failed to converge (status=1):\n",
      "STOP: TOTAL NO. of ITERATIONS REACHED LIMIT.\n",
      "\n",
      "Increase the number of iterations (max_iter) or scale the data as shown in:\n",
      "    https://scikit-learn.org/stable/modules/preprocessing.html\n",
      "Please also refer to the documentation for alternative solver options:\n",
      "    https://scikit-learn.org/stable/modules/linear_model.html#logistic-regression\n",
      "  n_iter_i = _check_optimize_result(\n",
      "C:\\Users\\SivaTharun\\anaconda3\\lib\\site-packages\\sklearn\\linear_model\\_logistic.py:763: ConvergenceWarning: lbfgs failed to converge (status=1):\n",
      "STOP: TOTAL NO. of ITERATIONS REACHED LIMIT.\n",
      "\n",
      "Increase the number of iterations (max_iter) or scale the data as shown in:\n",
      "    https://scikit-learn.org/stable/modules/preprocessing.html\n",
      "Please also refer to the documentation for alternative solver options:\n",
      "    https://scikit-learn.org/stable/modules/linear_model.html#logistic-regression\n",
      "  n_iter_i = _check_optimize_result(\n",
      "C:\\Users\\SivaTharun\\anaconda3\\lib\\site-packages\\sklearn\\linear_model\\_logistic.py:763: ConvergenceWarning: lbfgs failed to converge (status=1):\n",
      "STOP: TOTAL NO. of ITERATIONS REACHED LIMIT.\n",
      "\n",
      "Increase the number of iterations (max_iter) or scale the data as shown in:\n",
      "    https://scikit-learn.org/stable/modules/preprocessing.html\n",
      "Please also refer to the documentation for alternative solver options:\n",
      "    https://scikit-learn.org/stable/modules/linear_model.html#logistic-regression\n",
      "  n_iter_i = _check_optimize_result(\n",
      "C:\\Users\\SivaTharun\\anaconda3\\lib\\site-packages\\sklearn\\linear_model\\_logistic.py:763: ConvergenceWarning: lbfgs failed to converge (status=1):\n",
      "STOP: TOTAL NO. of ITERATIONS REACHED LIMIT.\n",
      "\n",
      "Increase the number of iterations (max_iter) or scale the data as shown in:\n",
      "    https://scikit-learn.org/stable/modules/preprocessing.html\n",
      "Please also refer to the documentation for alternative solver options:\n",
      "    https://scikit-learn.org/stable/modules/linear_model.html#logistic-regression\n",
      "  n_iter_i = _check_optimize_result(\n",
      "C:\\Users\\SivaTharun\\anaconda3\\lib\\site-packages\\sklearn\\linear_model\\_logistic.py:763: ConvergenceWarning: lbfgs failed to converge (status=1):\n",
      "STOP: TOTAL NO. of ITERATIONS REACHED LIMIT.\n",
      "\n",
      "Increase the number of iterations (max_iter) or scale the data as shown in:\n",
      "    https://scikit-learn.org/stable/modules/preprocessing.html\n",
      "Please also refer to the documentation for alternative solver options:\n",
      "    https://scikit-learn.org/stable/modules/linear_model.html#logistic-regression\n",
      "  n_iter_i = _check_optimize_result(\n",
      "C:\\Users\\SivaTharun\\anaconda3\\lib\\site-packages\\sklearn\\linear_model\\_logistic.py:763: ConvergenceWarning: lbfgs failed to converge (status=1):\n",
      "STOP: TOTAL NO. of ITERATIONS REACHED LIMIT.\n",
      "\n",
      "Increase the number of iterations (max_iter) or scale the data as shown in:\n",
      "    https://scikit-learn.org/stable/modules/preprocessing.html\n",
      "Please also refer to the documentation for alternative solver options:\n",
      "    https://scikit-learn.org/stable/modules/linear_model.html#logistic-regression\n",
      "  n_iter_i = _check_optimize_result(\n",
      "C:\\Users\\SivaTharun\\anaconda3\\lib\\site-packages\\sklearn\\linear_model\\_logistic.py:763: ConvergenceWarning: lbfgs failed to converge (status=1):\n",
      "STOP: TOTAL NO. of ITERATIONS REACHED LIMIT.\n",
      "\n",
      "Increase the number of iterations (max_iter) or scale the data as shown in:\n",
      "    https://scikit-learn.org/stable/modules/preprocessing.html\n",
      "Please also refer to the documentation for alternative solver options:\n",
      "    https://scikit-learn.org/stable/modules/linear_model.html#logistic-regression\n",
      "  n_iter_i = _check_optimize_result(\n"
     ]
    },
    {
     "name": "stdout",
     "output_type": "stream",
     "text": [
      "['WORKSITE_ARKANSAS', 'WORKSITE_DELAWARE', 'WORKSITE_HAWAII', 'WORKSITE_IDAHO', 'WORKSITE_INDIANA', 'WORKSITE_IOWA', 'WORKSITE_KENTUCKY', 'WORKSITE_MAINE', 'WORKSITE_NA', 'WORKSITE_NORTH DAKOTA', 'WORKSITE_OKLAHOMA', 'WORKSITE_OREGON', 'WORKSITE_SOUTH CAROLINA', 'WORKSITE_VERMONT', 'WAGE_CATEGORY_VERY HIGH', 'WAGE_CATEGORY_VERY LOW', 'EMPLOYER_ACCEPTANCE_HA', 'EMPLOYER_ACCEPTANCE_LA', 'EMPLOYER_ACCEPTANCE_MA', 'EMPLOYER_ACCEPTANCE_VHA', 'EMPLOYER_ACCEPTANCE_VLA', 'JOB_ACCEPTANCE_HA', 'JOB_ACCEPTANCE_LA', 'JOB_ACCEPTANCE_MA', 'JOB_ACCEPTANCE_VHA', 'JOB_ACCEPTANCE_VLA', 'SOC_ACCEPTANCE_HA', 'SOC_ACCEPTANCE_LA', 'SOC_ACCEPTANCE_MA', 'SOC_ACCEPTANCE_VLA']\n",
      "[ 4 44  9  1 31 26 20  1  8 24 10  1  1 34  1  1 43  1 11  1 12 38 28 23\n",
      " 18 30 32  1 17  2  6 21  5 27 36  1 25  1  1 13 41 19  1  3 39 29 33  1\n",
      " 16 15 22 40  7 37 14 42  1  1  1  1  1  1  1  1  1  1  1  1  1  1  1 35\n",
      "  1]\n"
     ]
    }
   ],
   "source": [
    "model = LogisticRegression()\n",
    "rfe = RFE(model, 30)\n",
    "fit = rfe.fit(final_df_train.iloc[:,1:], final_df_train.iloc[:,0])\n",
    "support_rfe = rfe.support_\n",
    "length_cols = list(final_df_train.iloc[:,1:].columns.values)\n",
    "list_selected = []\n",
    "for index in range(len(length_cols)):\n",
    "    if support_rfe[index] == True:\n",
    "        list_selected.append(length_cols[index])\n",
    "    else:\n",
    "        pass\n",
    "print(list_selected)\n",
    "print(rfe.ranking_)"
   ]
  },
  {
   "cell_type": "code",
   "execution_count": 50,
   "id": "247edfef",
   "metadata": {},
   "outputs": [
    {
     "data": {
      "text/plain": [
       "{'EMPLOYER', 'JOB', 'SOC', 'WAGE', 'WORKSITE'}"
      ]
     },
     "execution_count": 50,
     "metadata": {},
     "output_type": "execute_result"
    }
   ],
   "source": [
    "unique_listcols = [col.split('_')[0] for col in list_selected]\n",
    "set(unique_listcols)"
   ]
  },
  {
   "cell_type": "code",
   "execution_count": 51,
   "id": "b014e1c0",
   "metadata": {},
   "outputs": [
    {
     "data": {
      "text/plain": [
       "(10954,)"
      ]
     },
     "execution_count": 51,
     "metadata": {},
     "output_type": "execute_result"
    }
   ],
   "source": [
    "X_train, X_test, y_train, y_test = train_test_split(final_df_train.iloc[:,1:], final_df_train.iloc[:, 0], test_size = 0.20, random_state=1)\n",
    "y_test[y_test==1].shape"
   ]
  },
  {
   "cell_type": "code",
   "execution_count": 52,
   "id": "5eddc1ca",
   "metadata": {},
   "outputs": [
    {
     "data": {
      "text/html": [
       "<div>\n",
       "<style scoped>\n",
       "    .dataframe tbody tr th:only-of-type {\n",
       "        vertical-align: middle;\n",
       "    }\n",
       "\n",
       "    .dataframe tbody tr th {\n",
       "        vertical-align: top;\n",
       "    }\n",
       "\n",
       "    .dataframe thead th {\n",
       "        text-align: right;\n",
       "    }\n",
       "</style>\n",
       "<table border=\"1\" class=\"dataframe\">\n",
       "  <thead>\n",
       "    <tr style=\"text-align: right;\">\n",
       "      <th></th>\n",
       "      <th>FILING_YEAR_2016</th>\n",
       "      <th>WORKSITE_ALASKA</th>\n",
       "      <th>WORKSITE_ARIZONA</th>\n",
       "      <th>WORKSITE_ARKANSAS</th>\n",
       "      <th>WORKSITE_CALIFORNIA</th>\n",
       "      <th>WORKSITE_COLORADO</th>\n",
       "      <th>WORKSITE_CONNECTICUT</th>\n",
       "      <th>WORKSITE_DELAWARE</th>\n",
       "      <th>WORKSITE_DISTRICT OF COLUMBIA</th>\n",
       "      <th>WORKSITE_FLORIDA</th>\n",
       "      <th>...</th>\n",
       "      <th>JOB_ACCEPTANCE_HA</th>\n",
       "      <th>JOB_ACCEPTANCE_LA</th>\n",
       "      <th>JOB_ACCEPTANCE_MA</th>\n",
       "      <th>JOB_ACCEPTANCE_VHA</th>\n",
       "      <th>JOB_ACCEPTANCE_VLA</th>\n",
       "      <th>SOC_ACCEPTANCE_HA</th>\n",
       "      <th>SOC_ACCEPTANCE_LA</th>\n",
       "      <th>SOC_ACCEPTANCE_MA</th>\n",
       "      <th>SOC_ACCEPTANCE_VHA</th>\n",
       "      <th>SOC_ACCEPTANCE_VLA</th>\n",
       "    </tr>\n",
       "  </thead>\n",
       "  <tbody>\n",
       "    <tr>\n",
       "      <th>78592</th>\n",
       "      <td>1</td>\n",
       "      <td>0</td>\n",
       "      <td>0</td>\n",
       "      <td>0</td>\n",
       "      <td>0</td>\n",
       "      <td>0</td>\n",
       "      <td>0</td>\n",
       "      <td>0</td>\n",
       "      <td>0</td>\n",
       "      <td>0</td>\n",
       "      <td>...</td>\n",
       "      <td>0</td>\n",
       "      <td>0</td>\n",
       "      <td>0</td>\n",
       "      <td>1</td>\n",
       "      <td>0</td>\n",
       "      <td>0</td>\n",
       "      <td>0</td>\n",
       "      <td>1</td>\n",
       "      <td>0</td>\n",
       "      <td>0</td>\n",
       "    </tr>\n",
       "    <tr>\n",
       "      <th>570727</th>\n",
       "      <td>1</td>\n",
       "      <td>0</td>\n",
       "      <td>0</td>\n",
       "      <td>0</td>\n",
       "      <td>0</td>\n",
       "      <td>0</td>\n",
       "      <td>0</td>\n",
       "      <td>0</td>\n",
       "      <td>0</td>\n",
       "      <td>0</td>\n",
       "      <td>...</td>\n",
       "      <td>0</td>\n",
       "      <td>0</td>\n",
       "      <td>0</td>\n",
       "      <td>1</td>\n",
       "      <td>0</td>\n",
       "      <td>1</td>\n",
       "      <td>0</td>\n",
       "      <td>0</td>\n",
       "      <td>0</td>\n",
       "      <td>0</td>\n",
       "    </tr>\n",
       "    <tr>\n",
       "      <th>697699</th>\n",
       "      <td>0</td>\n",
       "      <td>0</td>\n",
       "      <td>0</td>\n",
       "      <td>0</td>\n",
       "      <td>0</td>\n",
       "      <td>0</td>\n",
       "      <td>0</td>\n",
       "      <td>0</td>\n",
       "      <td>0</td>\n",
       "      <td>0</td>\n",
       "      <td>...</td>\n",
       "      <td>0</td>\n",
       "      <td>0</td>\n",
       "      <td>0</td>\n",
       "      <td>1</td>\n",
       "      <td>0</td>\n",
       "      <td>0</td>\n",
       "      <td>0</td>\n",
       "      <td>0</td>\n",
       "      <td>1</td>\n",
       "      <td>0</td>\n",
       "    </tr>\n",
       "    <tr>\n",
       "      <th>418394</th>\n",
       "      <td>1</td>\n",
       "      <td>0</td>\n",
       "      <td>0</td>\n",
       "      <td>0</td>\n",
       "      <td>1</td>\n",
       "      <td>0</td>\n",
       "      <td>0</td>\n",
       "      <td>0</td>\n",
       "      <td>0</td>\n",
       "      <td>0</td>\n",
       "      <td>...</td>\n",
       "      <td>0</td>\n",
       "      <td>0</td>\n",
       "      <td>0</td>\n",
       "      <td>1</td>\n",
       "      <td>0</td>\n",
       "      <td>1</td>\n",
       "      <td>0</td>\n",
       "      <td>0</td>\n",
       "      <td>0</td>\n",
       "      <td>0</td>\n",
       "    </tr>\n",
       "    <tr>\n",
       "      <th>540855</th>\n",
       "      <td>1</td>\n",
       "      <td>0</td>\n",
       "      <td>0</td>\n",
       "      <td>0</td>\n",
       "      <td>0</td>\n",
       "      <td>0</td>\n",
       "      <td>0</td>\n",
       "      <td>0</td>\n",
       "      <td>0</td>\n",
       "      <td>1</td>\n",
       "      <td>...</td>\n",
       "      <td>0</td>\n",
       "      <td>0</td>\n",
       "      <td>0</td>\n",
       "      <td>1</td>\n",
       "      <td>0</td>\n",
       "      <td>1</td>\n",
       "      <td>0</td>\n",
       "      <td>0</td>\n",
       "      <td>0</td>\n",
       "      <td>0</td>\n",
       "    </tr>\n",
       "  </tbody>\n",
       "</table>\n",
       "<p>5 rows × 73 columns</p>\n",
       "</div>"
      ],
      "text/plain": [
       "        FILING_YEAR_2016  WORKSITE_ALASKA  WORKSITE_ARIZONA  \\\n",
       "78592   1                 0                0                  \n",
       "570727  1                 0                0                  \n",
       "697699  0                 0                0                  \n",
       "418394  1                 0                0                  \n",
       "540855  1                 0                0                  \n",
       "\n",
       "        WORKSITE_ARKANSAS  WORKSITE_CALIFORNIA  WORKSITE_COLORADO  \\\n",
       "78592   0                  0                    0                   \n",
       "570727  0                  0                    0                   \n",
       "697699  0                  0                    0                   \n",
       "418394  0                  1                    0                   \n",
       "540855  0                  0                    0                   \n",
       "\n",
       "        WORKSITE_CONNECTICUT  WORKSITE_DELAWARE  \\\n",
       "78592   0                     0                   \n",
       "570727  0                     0                   \n",
       "697699  0                     0                   \n",
       "418394  0                     0                   \n",
       "540855  0                     0                   \n",
       "\n",
       "        WORKSITE_DISTRICT OF COLUMBIA  WORKSITE_FLORIDA  ...  \\\n",
       "78592   0                              0                 ...   \n",
       "570727  0                              0                 ...   \n",
       "697699  0                              0                 ...   \n",
       "418394  0                              0                 ...   \n",
       "540855  0                              1                 ...   \n",
       "\n",
       "        JOB_ACCEPTANCE_HA  JOB_ACCEPTANCE_LA  JOB_ACCEPTANCE_MA  \\\n",
       "78592   0                  0                  0                   \n",
       "570727  0                  0                  0                   \n",
       "697699  0                  0                  0                   \n",
       "418394  0                  0                  0                   \n",
       "540855  0                  0                  0                   \n",
       "\n",
       "        JOB_ACCEPTANCE_VHA  JOB_ACCEPTANCE_VLA  SOC_ACCEPTANCE_HA  \\\n",
       "78592   1                   0                   0                   \n",
       "570727  1                   0                   1                   \n",
       "697699  1                   0                   0                   \n",
       "418394  1                   0                   1                   \n",
       "540855  1                   0                   1                   \n",
       "\n",
       "        SOC_ACCEPTANCE_LA  SOC_ACCEPTANCE_MA  SOC_ACCEPTANCE_VHA  \\\n",
       "78592   0                  1                  0                    \n",
       "570727  0                  0                  0                    \n",
       "697699  0                  0                  1                    \n",
       "418394  0                  0                  0                    \n",
       "540855  0                  0                  0                    \n",
       "\n",
       "        SOC_ACCEPTANCE_VLA  \n",
       "78592   0                   \n",
       "570727  0                   \n",
       "697699  0                   \n",
       "418394  0                   \n",
       "540855  0                   \n",
       "\n",
       "[5 rows x 73 columns]"
      ]
     },
     "execution_count": 52,
     "metadata": {},
     "output_type": "execute_result"
    }
   ],
   "source": [
    "X_train.head()"
   ]
  },
  {
   "cell_type": "code",
   "execution_count": 53,
   "id": "8b046080",
   "metadata": {},
   "outputs": [],
   "source": [
    "dtree = tree.DecisionTreeClassifier()\n",
    "dtree = dtree.fit(X_train, y_train)   "
   ]
  },
  {
   "cell_type": "code",
   "execution_count": 54,
   "id": "699c83c5",
   "metadata": {},
   "outputs": [
    {
     "name": "stdout",
     "output_type": "stream",
     "text": [
      "test 474442    1\n",
      "52043     0\n",
      "275747    1\n",
      "457862    1\n",
      "769387    1\n",
      "288444    0\n",
      "71038     1\n",
      "493316    0\n",
      "347912    0\n",
      "856739    1\n",
      "Name: CASE_STATUS, dtype: int64\n",
      "pred [1 0 1 1 1 1 1 1 0 1]\n",
      "\n",
      "[[ 2431   718]\n",
      " [  366 10588]]\n",
      "              precision    recall  f1-score   support\n",
      "\n",
      "           0       0.87      0.77      0.82      3149\n",
      "           1       0.94      0.97      0.95     10954\n",
      "\n",
      "    accuracy                           0.92     14103\n",
      "   macro avg       0.90      0.87      0.88     14103\n",
      "weighted avg       0.92      0.92      0.92     14103\n",
      "\n"
     ]
    }
   ],
   "source": [
    "y_pred = dtree.predict(X_test)\n",
    "\n",
    "y_prob = dtree.predict_proba(X_test)\n",
    "\n",
    "print(\"test\", y_test[:10])\n",
    "print(\"pred\", y_pred[:10])\n",
    "print()\n",
    "\n",
    "print(metrics.confusion_matrix(y_test,y_pred))\n",
    "print(metrics.classification_report(y_test, y_pred))"
   ]
  },
  {
   "cell_type": "code",
   "execution_count": 55,
   "id": "030b5691",
   "metadata": {},
   "outputs": [
    {
     "name": "stderr",
     "output_type": "stream",
     "text": [
      "C:\\Users\\SivaTharun\\anaconda3\\lib\\site-packages\\sklearn\\linear_model\\_logistic.py:763: ConvergenceWarning: lbfgs failed to converge (status=1):\n",
      "STOP: TOTAL NO. of ITERATIONS REACHED LIMIT.\n",
      "\n",
      "Increase the number of iterations (max_iter) or scale the data as shown in:\n",
      "    https://scikit-learn.org/stable/modules/preprocessing.html\n",
      "Please also refer to the documentation for alternative solver options:\n",
      "    https://scikit-learn.org/stable/modules/linear_model.html#logistic-regression\n",
      "  n_iter_i = _check_optimize_result(\n"
     ]
    },
    {
     "data": {
      "text/plain": [
       "LogisticRegression()"
      ]
     },
     "execution_count": 55,
     "metadata": {},
     "output_type": "execute_result"
    }
   ],
   "source": [
    "lr_clf = linear_model.LogisticRegression()\n",
    "lr_clf.fit(X_train, y_train)  "
   ]
  },
  {
   "cell_type": "code",
   "execution_count": 56,
   "id": "d7cc00b3",
   "metadata": {},
   "outputs": [
    {
     "name": "stdout",
     "output_type": "stream",
     "text": [
      "test 474442    1\n",
      "52043     0\n",
      "275747    1\n",
      "457862    1\n",
      "769387    1\n",
      "288444    0\n",
      "71038     1\n",
      "493316    0\n",
      "347912    0\n",
      "856739    1\n",
      "Name: CASE_STATUS, dtype: int64\n",
      "pred [1 0 1 1 1 1 1 1 0 1]\n",
      "[[ 2401   748]\n",
      " [  184 10770]]\n",
      "              precision    recall  f1-score   support\n",
      "\n",
      "           0       0.93      0.76      0.84      3149\n",
      "           1       0.94      0.98      0.96     10954\n",
      "\n",
      "    accuracy                           0.93     14103\n",
      "   macro avg       0.93      0.87      0.90     14103\n",
      "weighted avg       0.93      0.93      0.93     14103\n",
      "\n"
     ]
    }
   ],
   "source": [
    "y_pred_lr = lr_clf.predict(X_test)\n",
    "\n",
    "probs = lr_clf.predict_proba(X_test)\n",
    "\n",
    "print(\"test\", y_test[:10])\n",
    "print(\"pred\", y_pred_lr[:10])\n",
    "\n",
    "print(metrics.confusion_matrix(y_test,y_pred_lr))\n",
    "print(metrics.classification_report(y_test, y_pred_lr))"
   ]
  },
  {
   "cell_type": "code",
   "execution_count": 57,
   "id": "c407b38f",
   "metadata": {},
   "outputs": [
    {
     "data": {
      "text/plain": [
       "RandomForestClassifier(n_estimators=75, random_state=50)"
      ]
     },
     "execution_count": 57,
     "metadata": {},
     "output_type": "execute_result"
    }
   ],
   "source": [
    "rf = RandomForestClassifier(n_estimators = 75, random_state = 50)\n",
    "rf.fit(X_train, y_train)"
   ]
  },
  {
   "cell_type": "code",
   "execution_count": 58,
   "id": "ea218075",
   "metadata": {},
   "outputs": [
    {
     "name": "stdout",
     "output_type": "stream",
     "text": [
      "test 474442    1\n",
      "52043     0\n",
      "275747    1\n",
      "457862    1\n",
      "769387    1\n",
      "288444    0\n",
      "71038     1\n",
      "493316    0\n",
      "347912    0\n",
      "856739    1\n",
      "Name: CASE_STATUS, dtype: int64\n",
      "pred [1 0 1 1 1 1 1 1 0 1]\n",
      "[[ 2417   732]\n",
      " [  313 10641]]\n",
      "              precision    recall  f1-score   support\n",
      "\n",
      "           0       0.89      0.77      0.82      3149\n",
      "           1       0.94      0.97      0.95     10954\n",
      "\n",
      "    accuracy                           0.93     14103\n",
      "   macro avg       0.91      0.87      0.89     14103\n",
      "weighted avg       0.92      0.93      0.92     14103\n",
      "\n"
     ]
    }
   ],
   "source": [
    "y_pred_rf =  rf.predict(X_test)\n",
    "probs = rf.predict_proba(X_test)\n",
    "\n",
    "print(\"test\", y_test[:10])\n",
    "print(\"pred\", y_pred[:10])\n",
    "print(metrics.confusion_matrix(y_test,y_pred_rf))\n",
    "print(metrics.classification_report(y_test, y_pred_rf))"
   ]
  },
  {
   "cell_type": "code",
   "execution_count": null,
   "id": "2d2b44ed",
   "metadata": {},
   "outputs": [],
   "source": [
    "mlp = MLPClassifier(hidden_layer_sizes=(20,20,20,20,20), max_iter=1000)\n",
    "mlp.fit(X_train, y_train)"
   ]
  },
  {
   "cell_type": "code",
   "execution_count": null,
   "id": "c54268c6",
   "metadata": {},
   "outputs": [],
   "source": [
    "y_pred_mlp = mlp.predict(X_test)\n",
    "confusion = metrics.confusion_matrix(y_test, y_pred_mlp)\n",
    "print(confusion)\n",
    "print(metrics.classification_report(y_test, y_pred_mlp))"
   ]
  },
  {
   "cell_type": "code",
   "execution_count": null,
   "id": "d7f26568",
   "metadata": {},
   "outputs": [],
   "source": [
    "gaus_clf = GaussianNB()\n",
    "gaus_clf.fit(X_train, y_train)"
   ]
  },
  {
   "cell_type": "code",
   "execution_count": 65,
   "id": "ce94028a",
   "metadata": {},
   "outputs": [
    {
     "name": "stdout",
     "output_type": "stream",
     "text": [
      "[[ 1122  2027]\n",
      " [  837 10117]]\n",
      "              precision    recall  f1-score   support\n",
      "\n",
      "           0       0.57      0.36      0.44      3149\n",
      "           1       0.83      0.92      0.88     10954\n",
      "\n",
      "    accuracy                           0.80     14103\n",
      "   macro avg       0.70      0.64      0.66     14103\n",
      "weighted avg       0.77      0.80      0.78     14103\n",
      "\n"
     ]
    }
   ],
   "source": [
    "y_pred_glb = gaus_clf.predict(X_test)\n",
    "confusion = metrics.confusion_matrix(y_test, y_pred_glb)\n",
    "print(confusion)\n",
    "print(metrics.classification_report(y_test, y_pred_glb))"
   ]
  },
  {
   "cell_type": "code",
   "execution_count": null,
   "id": "bd02fbfa",
   "metadata": {},
   "outputs": [],
   "source": []
  }
 ],
 "metadata": {
  "kernelspec": {
   "display_name": "Python 3 (ipykernel)",
   "language": "python",
   "name": "python3"
  },
  "language_info": {
   "codemirror_mode": {
    "name": "ipython",
    "version": 3
   },
   "file_extension": ".py",
   "mimetype": "text/x-python",
   "name": "python",
   "nbconvert_exporter": "python",
   "pygments_lexer": "ipython3",
   "version": "3.9.7"
  }
 },
 "nbformat": 4,
 "nbformat_minor": 5
}
